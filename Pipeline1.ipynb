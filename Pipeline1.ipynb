{
 "cells": [
  {
   "cell_type": "code",
   "execution_count": 1,
   "id": "73b00484-1286-4bc7-beba-af93ae640a46",
   "metadata": {
    "tags": []
   },
   "outputs": [
    {
     "name": "stdout",
     "output_type": "stream",
     "text": [
      "Mon Mar  6 11:48:22 2023       \n",
      "+-----------------------------------------------------------------------------+\n",
      "| NVIDIA-SMI 526.98       Driver Version: 526.98       CUDA Version: 12.0     |\n",
      "|-------------------------------+----------------------+----------------------+\n",
      "| GPU  Name            TCC/WDDM | Bus-Id        Disp.A | Volatile Uncorr. ECC |\n",
      "| Fan  Temp  Perf  Pwr:Usage/Cap|         Memory-Usage | GPU-Util  Compute M. |\n",
      "|                               |                      |               MIG M. |\n",
      "|===============================+======================+======================|\n",
      "|   0  NVIDIA RTX A5000   WDDM  | 00000000:01:00.0  On |                  Off |\n",
      "| 30%   42C    P8    15W / 230W |    532MiB / 24564MiB |      3%      Default |\n",
      "|                               |                      |                  N/A |\n",
      "+-------------------------------+----------------------+----------------------+\n",
      "|   1  NVIDIA RTX A5000   WDDM  | 00000000:61:00.0 Off |                  Off |\n",
      "| 30%   31C    P8     4W / 230W |     49MiB / 24564MiB |      0%      Default |\n",
      "|                               |                      |                  N/A |\n",
      "+-------------------------------+----------------------+----------------------+\n",
      "                                                                               \n",
      "+-----------------------------------------------------------------------------+\n",
      "| Processes:                                                                  |\n",
      "|  GPU   GI   CI        PID   Type   Process name                  GPU Memory |\n",
      "|        ID   ID                                                   Usage      |\n",
      "|=============================================================================|\n",
      "|    0   N/A  N/A      1168    C+G   ...logioptionsplus_agent.exe    N/A      |\n",
      "|    0   N/A  N/A      1880    C+G   ...5n1h2txyewy\\SearchApp.exe    N/A      |\n",
      "|    0   N/A  N/A      3692    C+G   ...587.63\\msedgewebview2.exe    N/A      |\n",
      "|    0   N/A  N/A      5864    C+G   ...wekyb3d8bbwe\\Video.UI.exe    N/A      |\n",
      "|    0   N/A  N/A      7292    C+G   ...5n1h2txyewy\\SearchApp.exe    N/A      |\n",
      "|    0   N/A  N/A      8072    C+G   ...bbwe\\Microsoft.Photos.exe    N/A      |\n",
      "|    0   N/A  N/A      9200    C+G   ...lPanel\\SystemSettings.exe    N/A      |\n",
      "|    0   N/A  N/A      9940    C+G   ...oft OneDrive\\OneDrive.exe    N/A      |\n",
      "|    0   N/A  N/A      9980    C+G   C:\\Windows\\explorer.exe         N/A      |\n",
      "|    0   N/A  N/A     13216    C+G   ...2txyewy\\TextInputHost.exe    N/A      |\n",
      "|    0   N/A  N/A     13444    C+G   ...ontend\\Docker Desktop.exe    N/A      |\n",
      "|    0   N/A  N/A     14012    C+G   ...y\\ShellExperienceHost.exe    N/A      |\n",
      "|    0   N/A  N/A     17276    C+G   ...me\\Application\\chrome.exe    N/A      |\n",
      "|    0   N/A  N/A     17332    C+G   ...e\\PhoneExperienceHost.exe    N/A      |\n",
      "|    0   N/A  N/A     18020    C+G   ...ician\\SamsungMagician.exe    N/A      |\n",
      "|    0   N/A  N/A     18152    C+G   ...app-3.4.11\\SourceTree.exe    N/A      |\n",
      "|    0   N/A  N/A     19884    C+G   ...root\\Office16\\OUTLOOK.EXE    N/A      |\n",
      "|    0   N/A  N/A     22348    C+G   ...3d8bbwe\\CalculatorApp.exe    N/A      |\n",
      "|    0   N/A  N/A     22960    C+G   ...cw5n1h2txyewy\\LockApp.exe    N/A      |\n",
      "+-----------------------------------------------------------------------------+\n"
     ]
    }
   ],
   "source": [
    "!nvidia-smi"
   ]
  },
  {
   "cell_type": "markdown",
   "id": "a4e70498-7ad2-4590-8cb0-215f0079da4d",
   "metadata": {},
   "source": [
    "# import stuff"
   ]
  },
  {
   "cell_type": "code",
   "execution_count": 2,
   "id": "c957e81b-f1fa-48b4-8a36-4fd5c96da7a7",
   "metadata": {
    "tags": []
   },
   "outputs": [
    {
     "name": "stderr",
     "output_type": "stream",
     "text": [
      "C:\\home\\bolcay\\anaconda3\\envs\\DL\\lib\\site-packages\\tqdm\\auto.py:22: TqdmWarning: IProgress not found. Please update jupyter and ipywidgets. See https://ipywidgets.readthedocs.io/en/stable/user_install.html\n",
      "  from .autonotebook import tqdm as notebook_tqdm\n"
     ]
    },
    {
     "name": "stdout",
     "output_type": "stream",
     "text": [
      "cuda\n"
     ]
    }
   ],
   "source": [
    "import os\n",
    "import time\n",
    "from matplotlib import pylab as plt\n",
    "import numpy as np\n",
    "\n",
    "import torch\n",
    "from torch.utils.data import DataLoader\n",
    "\n",
    "import monai\n",
    "from monai.data import (\n",
    "    list_data_collate,\n",
    "    ITKReader,\n",
    "    NumpyReader,\n",
    ")\n",
    "from monai.networks.nets import DenseNet121\n",
    "from monai.transforms import (\n",
    "    Compose,\n",
    "    EnsureTyped,\n",
    "    EnsureChannelFirstd,\n",
    "    Lambdad,\n",
    "    LoadImaged,\n",
    "    Resized,\n",
    "    Rotate90d,\n",
    "    ScaleIntensityd,\n",
    "    ToNumpy,\n",
    "    ToTensord,\n",
    ")\n",
    "from monai.utils import first\n",
    "\n",
    "npc = ToNumpy()\n",
    "device = torch.device(\"cuda\" if torch.cuda.is_available() else \"cpu\")\n",
    "print(device)"
   ]
  },
  {
   "cell_type": "code",
   "execution_count": 3,
   "id": "41df4093-1812-4913-a4e4-af08413599fe",
   "metadata": {
    "tags": []
   },
   "outputs": [],
   "source": [
    "def gray2rgb(x):\n",
    "    #print(x.shape)\n",
    "    if x.shape[0]==1:\n",
    "        x = x.repeat(3, 1, 1)\n",
    "        x.meta['original_channel_dim'] = -1 # THIS is the important line! \n",
    "    #print(x.shape)\n",
    "    return x\n",
    "\n",
    "def clean_tiff_meta(x):\n",
    "    for key in ['DocumentName', 'ImageDescription', 'Software']:\n",
    "        if key in x.meta.keys():\n",
    "            del x.meta[key]\n",
    "    return x"
   ]
  },
  {
   "cell_type": "markdown",
   "id": "1e11e00d-a9da-45c0-a857-3fe512c59359",
   "metadata": {},
   "source": [
    "# load data"
   ]
  },
  {
   "cell_type": "code",
   "execution_count": 4,
   "id": "f9bfff17-9683-4c7b-ba5b-9fcd2b0c92be",
   "metadata": {
    "tags": []
   },
   "outputs": [],
   "source": [
    "# get the folder location\n",
    "images_path = r\"../data/torsion/P01/framesES/\"\n",
    "\n",
    "# get image locations in an array\n",
    "images = []\n",
    "for path in os.listdir(images_path):\n",
    "    image_location = os.path.join(images_path, path)\n",
    "    if os.path.isfile(image_location):\n",
    "        images.append(image_location)\n",
    "test_files = [{\"img\":  fn_img} for fn_img in images]\n",
    "\n",
    "# store the time at the beginning\n",
    "timeBeginning = time.time()"
   ]
  },
  {
   "cell_type": "code",
   "execution_count": 5,
   "id": "6ad1900e-8374-4a41-a65e-7d15e1b6ef1a",
   "metadata": {
    "tags": []
   },
   "outputs": [
    {
     "name": "stdout",
     "output_type": "stream",
     "text": [
      "../data/torsion/P01/framesES/P01_ES_GVS_0.jpg\n"
     ]
    }
   ],
   "source": [
    "print(test_files[0][\"img\"])"
   ]
  },
  {
   "cell_type": "markdown",
   "id": "0f51d3ba-f2d4-46bc-8080-78c4840f4085",
   "metadata": {},
   "source": [
    "# 1st Model"
   ]
  },
  {
   "cell_type": "markdown",
   "id": "96bfea66-dccb-49b7-9c82-2bb7657b85bd",
   "metadata": {},
   "source": [
    "## necessary transformations"
   ]
  },
  {
   "cell_type": "code",
   "execution_count": 6,
   "id": "c850e6ec-86f3-43ab-ae5c-2ca62a6c24e0",
   "metadata": {
    "tags": []
   },
   "outputs": [],
   "source": [
    "# apply necessary transformations\n",
    "\n",
    "test_transforms = Compose(\n",
    "    [\n",
    "        LoadImaged(keys=[\"img\"], reader= ITKReader, image_only = True),\n",
    "        EnsureChannelFirstd(keys=[\"img\"]),\n",
    "        Lambdad(keys=[\"img\"], func=lambda x: gray2rgb(x)), # gray to rgb conversion\n",
    "        ScaleIntensityd(keys=\"img\"),\n",
    "        Rotate90d(keys=[\"img\"]),\n",
    "        Rotate90d(keys=[\"img\"]),\n",
    "        Rotate90d(keys=[\"img\"]),\n",
    "        Resized(keys=[\"img\"], spatial_size=(240,320)),\n",
    "        EnsureTyped(keys=\"img\"),\n",
    "        Lambdad(keys=[\"img\"], func=lambda x: clean_tiff_meta(x)), # clean weird keys in TIFF metadata\n",
    "        ToTensord(keys=[\"img\"]),\n",
    "    ]\n",
    ")\n",
    "\n",
    "batch_size = 128\n",
    "\n",
    "# get them to monai data loader\n",
    "test_ds = monai.data.Dataset(data=test_files, transform=test_transforms)\n",
    "test_loader = DataLoader(\n",
    "    test_ds, \n",
    "    batch_size=batch_size, \n",
    "    num_workers=0,\n",
    "    collate_fn=list_data_collate\n",
    ")"
   ]
  },
  {
   "cell_type": "code",
   "execution_count": 7,
   "id": "72a09d8d-4921-4037-b255-48c3ac83e673",
   "metadata": {
    "tags": []
   },
   "outputs": [],
   "source": [
    "def draw_image(frame_rgb, ax=None):\n",
    "    # Plot segmented area\n",
    "    #fig, ax = plt.subplots(figsize=(3.2,2.4))\n",
    "    alpha=0.4\n",
    "    fig_created = False\n",
    "    if ax is None:\n",
    "        fig = plt.figure(figsize=(3.2,2.4))\n",
    "        #canvas = FigureCanvas(fig)\n",
    "        ax = fig.subplots()\n",
    "        fig_created = True\n",
    "    ax.imshow(frame_rgb)#, vmax=1, vmin=0, cmap=\"gray\")\n",
    "    ax.axis('off')\n",
    "    if fig_created:\n",
    "        fig.tight_layout()\n",
    "        fig.canvas.draw()\n",
    "        plt.show()\n",
    "\n",
    "if False:\n",
    "    check_data = first(test_loader) #check_data = monai.utils.misc.first(check_lo\n",
    "    for i in range(32):\n",
    "        # channel first versions\n",
    "        img_cf = np.squeeze(npc(check_data[\"img\"])[i,:,:,:])    \n",
    "        # channel last versions for plotting\n",
    "        img = np.moveaxis(img_cf, [0,1,2], [-1,-3,-2])\n",
    "        draw_image(img)\n"
   ]
  },
  {
   "cell_type": "markdown",
   "id": "846ce42d-86ac-47f3-af4e-d27432cd036d",
   "metadata": {},
   "source": [
    "## load model, infer"
   ]
  },
  {
   "cell_type": "code",
   "execution_count": 8,
   "id": "5668c076-7099-4942-a90c-8b6c4cdb099c",
   "metadata": {
    "tags": []
   },
   "outputs": [],
   "source": [
    "# define model\n",
    "model = DenseNet121(spatial_dims=2, \n",
    "                    in_channels=3,\n",
    "                    out_channels=30).to(device)\n",
    "\n",
    "# load weights\n",
    "model.load_state_dict(torch.load(\"models/best_metric_model_oc_multi_densenet121.pth\"))\n",
    "timeFirstModelLoaded = time.time()"
   ]
  },
  {
   "cell_type": "code",
   "execution_count": 9,
   "id": "107337d6-b1bf-4f04-80d2-2d344b402a1b",
   "metadata": {
    "scrolled": false,
    "tags": []
   },
   "outputs": [
    {
     "name": "stderr",
     "output_type": "stream",
     "text": [
      "Implicit dimension choice for softmax has been deprecated. Change the call to include dim=X as an argument.\n"
     ]
    },
    {
     "name": "stdout",
     "output_type": "stream",
     "text": [
      "done predicting\n",
      "took 47.61705446243286seconds\n",
      "flattening batch sizes\n",
      "took 0.07629942893981934seconds\n"
     ]
    }
   ],
   "source": [
    "# infer images, get open close predictions\n",
    "# store the time at the end of 1st model\n",
    "\n",
    "soft_act = torch.nn.Softmax()\n",
    "\n",
    "list_imgs  = []\n",
    "list_segs  = []\n",
    "list_preds = []\n",
    "\n",
    "counter = 0 \n",
    "timePassedInLoop = 0\n",
    "with torch.no_grad():\n",
    "    for test_data in test_loader:\n",
    "        timeLoopStarted = time.time()\n",
    "        \n",
    "        test_images = (\n",
    "            test_data[\"img\"].to(device)\n",
    "        )\n",
    "        test_outputs = model(test_images)\n",
    "        \n",
    "        # it is faster with the code below, but there is not enough memory.\n",
    "        # list_imgs.append(test_images)\n",
    "        # list_preds.append(test_outputs)\n",
    "        \n",
    "        # so change the device cpu and save it to numpy array\n",
    "        tmp_imgs = [np.squeeze(img.cpu().numpy()).transpose([1,2,0]) for img in test_images]\n",
    "        list_imgs.append(tmp_imgs)\n",
    "        tmp_preds = [(np.squeeze(soft_act(pred).cpu().numpy())).round() for pred in test_outputs]\n",
    "        list_preds.append(tmp_preds)\n",
    "        \n",
    "        timeOfLoop = time.time() - timeLoopStarted\n",
    "        timePassedInLoop += timeOfLoop\n",
    "timeFirstModelPredicted = time.time()\n",
    "print(\"done predicting\")\n",
    "print(\"took \" + str(timePassedInLoop) + \"seconds\")\n",
    "        \n",
    "#list_imgs = [np.squeeze(img.cpu().numpy()).transpose([1,2,0]) for img in list_imgs]\n",
    "list_imgs = [np.squeeze(img) for imgs in list_imgs for img in imgs]\n",
    "#list_preds_act = [(np.squeeze(soft_act(pred).cpu().numpy())).round() for pred in list_preds]\n",
    "list_preds_act = [np.squeeze(pred) for preds in list_preds for pred in preds]\n",
    "\n",
    "indexes = range(len(test_files))\n",
    "indexesToRemove = [idx for idx in indexes if list_preds_act[idx][0] == 1]\n",
    "\n",
    "timeFirstResultsInOrder = time.time()\n",
    "print(\"flattening batch sizes\")\n",
    "print(\"took \" + str(timeFirstResultsInOrder - timeFirstModelPredicted) + \"seconds\")"
   ]
  },
  {
   "cell_type": "markdown",
   "id": "c5026016",
   "metadata": {},
   "source": [
    "# Some cells to check the results of the model (for now)"
   ]
  },
  {
   "cell_type": "code",
   "execution_count": null,
   "id": "6699afee-7a66-49f6-88e0-ade3c9a34ea9",
   "metadata": {
    "tags": []
   },
   "outputs": [],
   "source": [
    "idx = 0\n"
   ]
  },
  {
   "cell_type": "code",
   "execution_count": null,
   "id": "25060673-a59c-4172-b461-305a2a6f9981",
   "metadata": {
    "scrolled": false,
    "tags": []
   },
   "outputs": [],
   "source": [
    "idxLimit = idx + 10\n",
    "while idx < idxLimit and idx < len(test_files):\n",
    "    img_cf  = list_imgs[idx]\n",
    "    pred = list_preds_act[idx]\n",
    "    \n",
    "    # channel last versions for plotting\n",
    "    img = np.moveaxis(img_cf, [0,1,2], [-1,-3,-2])\n",
    "    draw_image(img_cf)\n",
    "    print('Image index: %d'%idx)\n",
    "    print(\"prediction\\t\", 'close' if pred[0] == 1 else 'open')\n",
    "    print(\"prediction\", pred)\n",
    "    idx += 1"
   ]
  },
  {
   "cell_type": "code",
   "execution_count": null,
   "id": "9bf195d7-2216-4ed1-a185-7c965228dc4a",
   "metadata": {
    "scrolled": true,
    "tags": []
   },
   "outputs": [],
   "source": [
    "indexes = range(len(test_files))\n",
    "counterClosedPrediction = 0\n",
    "for idx in indexes:\n",
    "    img_cf  = list_imgs[idx]\n",
    "    pred = list_preds_act[idx]\n",
    "    \n",
    "    if (pred[0] == 1):\n",
    "        # channel last versions for plotting\n",
    "        img = np.moveaxis(img_cf, [0,1,2], [-1,-3,-2])\n",
    "        draw_image(img_cf)\n",
    "        print('Image index: %d'%idx)\n",
    "        print(\"prediction\\t\", 'close' if pred[0] == 1 else 'open')\n",
    "        print(\"prediction\", pred)\n",
    "        counterClosedPrediction += 1\n",
    "print(counterClosedPrediction)\n",
    "        \n",
    "# ES1 14625 is false positive."
   ]
  },
  {
   "cell_type": "code",
   "execution_count": null,
   "id": "13098c3e",
   "metadata": {
    "scrolled": true
   },
   "outputs": [],
   "source": [
    "indexes = range(len(test_files))\n",
    "counterAllZeros = 0\n",
    "for idx in indexes:\n",
    "    img_cf  = list_imgs[idx]\n",
    "    pred = list_preds_act[idx]\n",
    "    \n",
    "    if (not pred.any()):\n",
    "        # channel last versions for plotting\n",
    "        img = np.moveaxis(img_cf, [0,1,2], [-1,-3,-2])\n",
    "        draw_image(img_cf)\n",
    "        print('Image index: %d'%idx)\n",
    "        print(\"prediction\\t\", 'close' if pred[0] == 1 else 'open')\n",
    "        print(\"prediction\", pred)\n",
    "        counterAllZeros += 1\n",
    "print(counterAllZeros)\n"
   ]
  },
  {
   "cell_type": "code",
   "execution_count": null,
   "id": "e1e5fc37",
   "metadata": {},
   "outputs": [],
   "source": [
    "indexes = range(len(test_files))\n",
    "counterAllZeros = 0\n",
    "for idx in indexes:\n",
    "    img_cf  = list_imgs[idx]\n",
    "    pred = list_preds_act[idx]\n",
    "    \n",
    "    if (pred[1:].any()):\n",
    "        # channel last versions for plotting\n",
    "        img = np.moveaxis(img_cf, [0,1,2], [-1,-3,-2])\n",
    "        draw_image(img_cf)\n",
    "        print('Image index: %d'%idx)\n",
    "        print(\"prediction\\t\", 'close' if pred[0] == 1 else 'open')\n",
    "        print(\"prediction\", pred)\n",
    "        counterAllZeros += 1\n",
    "print(counterAllZeros)\n"
   ]
  },
  {
   "cell_type": "markdown",
   "id": "73e62078-6355-4a81-b819-1c5cdc0aae8e",
   "metadata": {},
   "source": [
    "# 2nd model"
   ]
  },
  {
   "cell_type": "markdown",
   "id": "36558699-b21a-4ce8-a1c1-3feb2059e985",
   "metadata": {},
   "source": [
    "## necessary transformations "
   ]
  },
  {
   "cell_type": "code",
   "execution_count": null,
   "id": "1dc21325-d74c-4555-9a09-76c88558d688",
   "metadata": {
    "tags": []
   },
   "outputs": [],
   "source": [
    "# apply necessary transformations, if not the same\n",
    "\n",
    "# get them to monai data loader"
   ]
  },
  {
   "cell_type": "markdown",
   "id": "0d0dacfa-1c79-43be-a3ba-2c37016074fa",
   "metadata": {},
   "source": [
    "## load model, infer"
   ]
  },
  {
   "cell_type": "code",
   "execution_count": null,
   "id": "c527ed13-1ebb-46f9-b6cd-6bb4066c399c",
   "metadata": {
    "tags": []
   },
   "outputs": [],
   "source": [
    "# define model\n",
    "\n",
    "# load weights"
   ]
  },
  {
   "cell_type": "code",
   "execution_count": null,
   "id": "6ea44d81-a6e9-4b70-8306-0d9141b37910",
   "metadata": {
    "tags": []
   },
   "outputs": [],
   "source": [
    "# infer images, get segmentations\n",
    "# store the time at the end of 2nd model"
   ]
  },
  {
   "cell_type": "markdown",
   "id": "b992b068-7b3c-448c-a6da-977d24d2e68c",
   "metadata": {},
   "source": [
    "# 3rd model"
   ]
  },
  {
   "cell_type": "markdown",
   "id": "9aa1c370-fe76-4bff-8bce-a8db0190a2f2",
   "metadata": {},
   "source": [
    "## Crop iris (?)"
   ]
  },
  {
   "cell_type": "code",
   "execution_count": null,
   "id": "a14c03f1-1501-4aed-ad59-00febe4a0282",
   "metadata": {
    "tags": []
   },
   "outputs": [],
   "source": [
    "# crop and store only the iris part of previous inferred images"
   ]
  },
  {
   "cell_type": "markdown",
   "id": "8addc1e8-b451-4261-9239-6c1fcfef28da",
   "metadata": {},
   "source": [
    "## necessary transformations "
   ]
  },
  {
   "cell_type": "code",
   "execution_count": null,
   "id": "2197fb6f-5078-46a6-a021-270c6b97d742",
   "metadata": {
    "tags": []
   },
   "outputs": [],
   "source": [
    "# apply necessary transformations\n",
    "# to monai data loader"
   ]
  },
  {
   "cell_type": "markdown",
   "id": "44ddbc49-24ba-47e1-ab73-3f2184d0c6b7",
   "metadata": {},
   "source": [
    "## load model, infer"
   ]
  },
  {
   "cell_type": "code",
   "execution_count": null,
   "id": "362061ea-ad88-4483-907c-d60c6fa7b90e",
   "metadata": {
    "tags": []
   },
   "outputs": [],
   "source": [
    "# define model\n",
    "# load weights"
   ]
  },
  {
   "cell_type": "code",
   "execution_count": null,
   "id": "4156599a-58ef-4a6d-9886-95fb89e1009c",
   "metadata": {
    "tags": []
   },
   "outputs": [],
   "source": [
    "# infer images, get torsion predictions\n",
    "# store the time at the end of 3rd model"
   ]
  },
  {
   "cell_type": "markdown",
   "id": "06c9ad8c-377a-411f-b135-cb0ade4eed6d",
   "metadata": {},
   "source": [
    "# combine findings"
   ]
  },
  {
   "cell_type": "code",
   "execution_count": null,
   "id": "9296ba2e-2e77-4354-83fb-ed26eb37e4ef",
   "metadata": {},
   "outputs": [],
   "source": [
    "# combine x,y position of pupil and torsion for each image\n",
    "# store them as txt, npt etc."
   ]
  }
 ],
 "metadata": {
  "kernelspec": {
   "display_name": "DL",
   "language": "python",
   "name": "dl"
  },
  "language_info": {
   "codemirror_mode": {
    "name": "ipython",
    "version": 3
   },
   "file_extension": ".py",
   "mimetype": "text/x-python",
   "name": "python",
   "nbconvert_exporter": "python",
   "pygments_lexer": "ipython3",
   "version": "3.9.16"
  }
 },
 "nbformat": 4,
 "nbformat_minor": 5
}
