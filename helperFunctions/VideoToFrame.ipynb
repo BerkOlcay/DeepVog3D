{
 "cells": [
  {
   "cell_type": "code",
   "execution_count": 27,
   "id": "f1f4a6cd",
   "metadata": {
    "tags": []
   },
   "outputs": [],
   "source": [
    "import cv2\n",
    "import os\n",
    "import pandas as pd\n",
    "import pickle\n",
    "\n",
    "# Set the name of the patients\n",
    "persons = [\"P01\", \"P02\", \"P03\", \"P04\", \"P05\", \"P06\", \"P07\", \"P08\", \"P09\", \"P10\"]\n",
    "cameras = [\"ES\", \"PL\"]\n"
   ]
  },
  {
   "cell_type": "code",
   "execution_count": 39,
   "id": "fd9bb506-a62c-4914-b42f-415071a263ee",
   "metadata": {
    "tags": []
   },
   "outputs": [],
   "source": [
    "def checkFolderPathCreateIfNotExist(folderPath):\n",
    "    # Check whether the specified path exists or not\n",
    "    isExist = os.path.exists(folderPath)\n",
    "    if not isExist:\n",
    "       # Create a new directory because it does not exist\n",
    "       os.makedirs(folderPath)"
   ]
  },
  {
   "cell_type": "code",
   "execution_count": 36,
   "id": "6fe05c5d",
   "metadata": {},
   "outputs": [
    {
     "name": "stdout",
     "output_type": "stream",
     "text": [
      "23415\n",
      "24591\n",
      "23851\n",
      "24048\n",
      "43902\n",
      "24838\n",
      "24722\n",
      "23975\n",
      "24238\n",
      "25613\n"
     ]
    },
    {
     "data": {
      "text/plain": [
       "'\\ndata point frame\\n1.12862   12867\\n2.13152   13157\\n3.13108   13113\\n4.13412   13856   ***\\n5.13195   13200\\n6.13369   13374\\n7.12636   12913   ***\\n8.13009   13014\\n9.13069   13074\\n10.13412   14122   *** \\n'"
      ]
     },
     "execution_count": 36,
     "metadata": {},
     "output_type": "execute_result"
    }
   ],
   "source": [
    "# get frames from videos\n",
    "for camera in cameras:\n",
    "    for person in persons:\n",
    "        # Set the path to your MP4 video file\n",
    "        video_path = \"../../data/torsion/\" + person + \"/\" + person + \"_\" + camera + \"_GVS.mp4\"\n",
    "        output_path = \"../../data/torsion/\" + person + \"/frames\" + camera + \"/\" + person + \"_\" + camera + \"_GVS\"\n",
    "        checkFolderPathCreateIfNotExist(\"../data/torsion/\" + person + \"/frames\" + camera)\n",
    "\n",
    "        cap = cv2.VideoCapture(video_path)\n",
    "\n",
    "        # Check if the video file was successfully opened\n",
    "        if not cap.isOpened():\n",
    "            print(\"Error opening video file\")\n",
    "\n",
    "        # Initialize frame count and create a VideoWriter object\n",
    "        frame_count = 0\n",
    "        writer = cv2.VideoWriter(output_path + '.avi', cv2.VideoWriter_fourcc(*'MJPG'), 30, (640, 480))\n",
    "\n",
    "        # Loop over each frame in the video\n",
    "        while cap.isOpened():\n",
    "            # Read the current frame\n",
    "            ret, frame = cap.read()\n",
    "            if not ret:\n",
    "                break\n",
    "\n",
    "            # Save the frame to a file\n",
    "            filename = output_path + '_' + str(frame_count) + '.jpg'\n",
    "            cv2.imwrite(filename, frame)\n",
    "\n",
    "            # Write the frame to the output video\n",
    "            writer.write(frame)\n",
    "\n",
    "            # Increment the frame count\n",
    "            frame_count += 1\n",
    "\n",
    "        # Release the VideoCapture and VideoWriter objects\n",
    "        cap.release()\n",
    "        writer.release()\n",
    "        print(person + \" \" + frame_count)\n",
    "'''\n",
    "data point frame\n",
    "1.12862   12867\n",
    "2.13152   13157\n",
    "3.13108   13113\n",
    "4.13412   13856   ***\n",
    "5.13195   13200\n",
    "6.13369   13374\n",
    "7.12636   12913   ***\n",
    "8.13009   13014\n",
    "9.13069   13074\n",
    "10.13412   14122   *** \n",
    "'''"
   ]
  },
  {
   "cell_type": "code",
   "execution_count": 42,
   "id": "2b1ca1e6-eb51-4ba8-a5e7-a45a5ad86837",
   "metadata": {
    "tags": []
   },
   "outputs": [
    {
     "name": "stdout",
     "output_type": "stream",
     "text": [
      "P01\n",
      "P02\n",
      "P03\n",
      "P04\n",
      "P05\n",
      "P06\n",
      "P07\n",
      "P08\n",
      "P09\n",
      "P10\n"
     ]
    }
   ],
   "source": [
    "# get labels from text files\n",
    "for camera in cameras:\n",
    "    for person in persons:\n",
    "        print(person)\n",
    "        # Using readlines()\n",
    "        txtFile = open(\"../../data/torsion/\" + person + \"/\" +person +\"_\" + camera + \"_GVS.txt\", 'r')\n",
    "        Lines = txtFile.readlines()\n",
    "\n",
    "        # Check whether the specified path exists or not\n",
    "        checkFolderPathCreateIfNotExist(\"../data/torsion/\" + person + \"/labels\" + camera)\n",
    "\n",
    "        counter = -1\n",
    "        # Strips the newline character\n",
    "        for line in Lines:\n",
    "            if (counter != -1):\n",
    "                splittedLine = line.split(\"\\t\") \n",
    "                pn_resegmentPkl = \"../data/torsion/\" + person + \"/labels\" + camera + \"/\" + person + \"_\" + camera + \"_GVS_\" + str(counter) + \"_seg.pk\"\n",
    "                fileObject = open(pn_resegmentPkl, 'wb')\n",
    "                pickle.dump(float(splittedLine[2]), fileObject)\n",
    "                fileObject.close()\n",
    "            counter += 1\n",
    "\n"
   ]
  },
  {
   "cell_type": "code",
   "execution_count": 29,
   "id": "b35fc3c1",
   "metadata": {},
   "outputs": [
    {
     "name": "stdout",
     "output_type": "stream",
     "text": [
      "12862\n",
      "26014\n",
      "39122\n",
      "52534\n",
      "65729\n",
      "79098\n",
      "91734\n",
      "104743\n",
      "117812\n",
      "131224\n"
     ]
    }
   ],
   "source": [
    "# save frames and their labels to csv\n",
    "images = []\n",
    "labels = []\n",
    "\n",
    "for person in persons:\n",
    "    # folder path\n",
    "    frames_path = r\"../../data/torsion/\" + person + \"/labels/\"\n",
    "\n",
    "    counter = 0\n",
    "\n",
    "    # Iterate directory\n",
    "    for path in os.listdir(frames_path):\n",
    "        # check if current path is a file\n",
    "        if os.path.isfile(os.path.join(frames_path, path)):\n",
    "            counter += 1\n",
    "\n",
    "    for i in range(counter):\n",
    "        filename = person + \"_PL_GVS_\" + str(i)\n",
    "        images.append(\"../data/torsion/\" + person + \"/frames/\" + filename + \".jpg\")\n",
    "        labels.append(\"../data/torsion/\" + person + \"/labels/\" + filename + \"_seg.pk\")\n",
    "    print(len(images))\n",
    "'''\n",
    "12862\n",
    "26014\n",
    "39122\n",
    "52534\n",
    "65729\n",
    "79098\n",
    "91734\n",
    "104743\n",
    "117812\n",
    "131224\n",
    "'''\n",
    "                      \n",
    "df = pd.read_csv('../df_torsion_monai_files.csv', index_col=0)\n",
    "df['fn_img'] = images\n",
    "df['fn_seg'] = labels\n",
    "df.to_csv('../df_torsion_monai_files.csv', index= True)"
   ]
  }
 ],
 "metadata": {
  "kernelspec": {
   "display_name": "Python 3 (ipykernel)",
   "language": "python",
   "name": "python3"
  },
  "language_info": {
   "codemirror_mode": {
    "name": "ipython",
    "version": 3
   },
   "file_extension": ".py",
   "mimetype": "text/x-python",
   "name": "python",
   "nbconvert_exporter": "python",
   "pygments_lexer": "ipython3",
   "version": "3.10.9"
  }
 },
 "nbformat": 4,
 "nbformat_minor": 5
}
